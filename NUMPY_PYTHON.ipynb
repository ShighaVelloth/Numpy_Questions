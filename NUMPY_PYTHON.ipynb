{
 "cells": [
  {
   "cell_type": "markdown",
   "id": "50f257e0",
   "metadata": {},
   "source": [
    "## Given a list lst perform elementwise addition with 5."
   ]
  },
  {
   "cell_type": "code",
   "execution_count": 8,
   "id": "db8e65d4",
   "metadata": {},
   "outputs": [
    {
     "name": "stdout",
     "output_type": "stream",
     "text": [
      "[ 10  15   5 205]\n"
     ]
    }
   ],
   "source": [
    "# Input\n",
    "lst = [5, 10, 0, 200]\n",
    "\n",
    "import numpy as np\n",
    "arr= np.array(lst)\n",
    "print(arr + 5)"
   ]
  },
  {
   "cell_type": "markdown",
   "id": "ed3cf5a5",
   "metadata": {},
   "source": [
    "## Given a list lst do a homogeneity test on each element. "
   ]
  },
  {
   "cell_type": "code",
   "execution_count": 11,
   "id": "7fde2760",
   "metadata": {},
   "outputs": [
    {
     "name": "stdout",
     "output_type": "stream",
     "text": [
      "<class 'numpy.str_'> <class 'numpy.str_'> <class 'numpy.str_'>\n"
     ]
    }
   ],
   "source": [
    "lst = [1, 2, 3, 'text', True, 3+2j] \n",
    "\n",
    "import numpy as np\n",
    "arr=np.array(lst)\n",
    "\n",
    "print(type(arr[0]),type(arr[4]),type(arr[5]))"
   ]
  },
  {
   "cell_type": "markdown",
   "id": "1c6b935b",
   "metadata": {},
   "source": [
    "## Given a list lst find its complete size in bytes. Hint: use sys.getsizeof(lst)"
   ]
  },
  {
   "cell_type": "code",
   "execution_count": 12,
   "id": "f063d5fa",
   "metadata": {},
   "outputs": [
    {
     "name": "stdout",
     "output_type": "stream",
     "text": [
      "16\n"
     ]
    }
   ],
   "source": [
    "lst = [56, 45, 12, 6]\n",
    "import numpy as np\n",
    "arr = np.array(lst)\n",
    "print(arr.nbytes)"
   ]
  },
  {
   "cell_type": "markdown",
   "id": "ad7642e4",
   "metadata": {},
   "source": [
    "## Creation of Numpy Object"
   ]
  },
  {
   "cell_type": "code",
   "execution_count": 14,
   "id": "8be6cca7",
   "metadata": {},
   "outputs": [
    {
     "name": "stdout",
     "output_type": "stream",
     "text": [
      "[[ 5  6  7  2]\n",
      " [45  3  2  1]]\n"
     ]
    }
   ],
   "source": [
    "print(np.array([5,6,7,2,45,3,2,1]).reshape(2,4))"
   ]
  },
  {
   "cell_type": "code",
   "execution_count": 15,
   "id": "b9470c48",
   "metadata": {},
   "outputs": [
    {
     "name": "stdout",
     "output_type": "stream",
     "text": [
      "[0. 1. 2. 3. 4. 5. 6. 7. 8. 9.]\n"
     ]
    }
   ],
   "source": [
    "print(np.arange(0,10,1,dtype=np.float64))"
   ]
  },
  {
   "cell_type": "code",
   "execution_count": 16,
   "id": "edb2c0d4",
   "metadata": {},
   "outputs": [
    {
     "name": "stdout",
     "output_type": "stream",
     "text": [
      "[  0.  25.  50.  75. 100.]\n"
     ]
    }
   ],
   "source": [
    "print(np.linspace(0,100,5,dtype=np.float64))"
   ]
  },
  {
   "cell_type": "code",
   "execution_count": 18,
   "id": "82a136af",
   "metadata": {},
   "outputs": [
    {
     "name": "stdout",
     "output_type": "stream",
     "text": [
      "[[1. 0. 0.]\n",
      " [0. 1. 0.]\n",
      " [0. 0. 1.]]\n"
     ]
    }
   ],
   "source": [
    "print(np.eye(3))"
   ]
  },
  {
   "cell_type": "code",
   "execution_count": 28,
   "id": "c33bdc8c",
   "metadata": {},
   "outputs": [
    {
     "name": "stdout",
     "output_type": "stream",
     "text": [
      "[1. 1. 1.]\n"
     ]
    }
   ],
   "source": [
    "arr = np.ones(3, dtype=np.float32)\n",
    "print(arr)"
   ]
  },
  {
   "cell_type": "code",
   "execution_count": 24,
   "id": "762ae20b",
   "metadata": {},
   "outputs": [
    {
     "name": "stdout",
     "output_type": "stream",
     "text": [
      "[[0. 0.]\n",
      " [0. 0.]]\n"
     ]
    }
   ],
   "source": [
    "print(np.zeros((2,2)))"
   ]
  },
  {
   "cell_type": "markdown",
   "id": "476616fb",
   "metadata": {},
   "source": [
    "## Given two NumPy arrays arr1 = [25, 56, 12, 85, 34, 75] and arr2 = [42, 3, 86, 32, 856, 46], solve the following:\n",
    "\n",
    "## 1.Create a new NumPy array Narr with the shape equal to arr1 filled with random values.\n",
    "\n",
    "## 2. Permanently change the dtype of arr1 to complex.\n",
    "\n",
    "## 3.Transform arrays arr1 and arr2 into two matrices (arr1_mat and arr2_mat) of shape (2,3) and arrive at the solution of the following equation:\n",
    "\n"
   ]
  },
  {
   "cell_type": "code",
   "execution_count": 32,
   "id": "4c8f7bd0",
   "metadata": {},
   "outputs": [
    {
     "name": "stdout",
     "output_type": "stream",
     "text": [
      "[0.83132663 0.17875164 0.32049219 0.0296935  0.24651598 0.0887764 ]\n"
     ]
    }
   ],
   "source": [
    "arr1 = np.array([25, 56, 12, 85, 34, 75] )\n",
    "arr2 = np.array([42, 3, 86, 32, 856, 46])\n",
    "\n",
    "#Q1\n",
    "narr = np.random.rand(len(arr1))\n",
    "print(narr)"
   ]
  },
  {
   "cell_type": "markdown",
   "id": "61319f34",
   "metadata": {},
   "source": [
    "Q2 - TWO METHODS"
   ]
  },
  {
   "cell_type": "code",
   "execution_count": 35,
   "id": "1bc6ccf1",
   "metadata": {},
   "outputs": [
    {
     "name": "stdout",
     "output_type": "stream",
     "text": [
      "[25.+0.j 56.+0.j 12.+0.j 85.+0.j 34.+0.j 75.+0.j]\n"
     ]
    }
   ],
   "source": [
    "arr1=np.array(arr1,dtype='complex')\n",
    "print(arr1)"
   ]
  },
  {
   "cell_type": "code",
   "execution_count": 34,
   "id": "7cd2fcc7",
   "metadata": {},
   "outputs": [
    {
     "name": "stdout",
     "output_type": "stream",
     "text": [
      "[25.+0.j 56.+0.j 12.+0.j 85.+0.j 34.+0.j 75.+0.j]\n"
     ]
    }
   ],
   "source": [
    "arr1 = arr1.astype(\"complex\")\n",
    "print(arr1)"
   ]
  },
  {
   "cell_type": "code",
   "execution_count": 39,
   "id": "f7fb2e6b",
   "metadata": {},
   "outputs": [
    {
     "name": "stdout",
     "output_type": "stream",
     "text": [
      "[[25.+0.j 56.+0.j 12.+0.j]\n",
      " [85.+0.j 34.+0.j 75.+0.j]]\n",
      "[[ 42   3  86]\n",
      " [ 32 856  46]]\n"
     ]
    }
   ],
   "source": [
    "#Q3\n",
    "arr1_mat=arr1.reshape(2,3)\n",
    "arr2_mat =arr2.reshape(2,3)\n",
    "\n",
    "print(arr1_mat)\n",
    "print(arr2_mat)"
   ]
  },
  {
   "cell_type": "code",
   "execution_count": 46,
   "id": "86a79390",
   "metadata": {},
   "outputs": [
    {
     "name": "stdout",
     "output_type": "stream",
     "text": [
      "[[ 67.-0.j  59.+0.j  98.-0.j]\n",
      " [117.+0.j 890.-0.j 121.+0.j]]\n"
     ]
    }
   ],
   "source": [
    "#Q4\n",
    "\n",
    "#Calculate (arr1_mat^2 - arr2_mat^2) / (arr1_mat - arr2_mat)\n",
    "# solution = (arr1_mat**2 - arr2_mat**2) / (arr1_mat - arr2_mat)\n",
    "# Calculate (arr1_mat^2 - arr2_mat^2) / (arr1_mat - arr2_mat) using the square function\n",
    "\n",
    "solution= (np.square(arr1_mat)-np.square(arr2_mat))/(arr1_mat - arr2_mat)\n",
    "print(solution)\n",
    "\n"
   ]
  },
  {
   "cell_type": "code",
   "execution_count": 48,
   "id": "2421e798",
   "metadata": {},
   "outputs": [
    {
     "name": "stdout",
     "output_type": "stream",
     "text": [
      "(4,)\n"
     ]
    }
   ],
   "source": [
    "import numpy as np\n",
    "arr = np.arange(4)\n",
    "arr.reshape(2,2)\n",
    "print(arr.shape)\n",
    "\n",
    "#arr.reshape craetes a new array ,that is original array remains the same so the shape is 4 itself"
   ]
  },
  {
   "cell_type": "code",
   "execution_count": 49,
   "id": "9b5ebc2c",
   "metadata": {},
   "outputs": [
    {
     "name": "stdout",
     "output_type": "stream",
     "text": [
      "(4, 1)\n"
     ]
    }
   ],
   "source": [
    "import numpy as np\n",
    "arr = np.arange(4).reshape(4,-1)\n",
    "print(arr.shape)"
   ]
  },
  {
   "cell_type": "code",
   "execution_count": 50,
   "id": "501b7ffa",
   "metadata": {},
   "outputs": [
    {
     "name": "stdout",
     "output_type": "stream",
     "text": [
      "float64\n",
      "float64\n"
     ]
    }
   ],
   "source": [
    "import numpy as np\n",
    "\n",
    "arr1 = np.ones(10)\n",
    "arr2 = np.arange(10, dtype = np.float64)\n",
    "arr3 = arr1 + arr2\n",
    "print(np.result_type(arr1))\n",
    "print(np.result_type(arr3))\n",
    " "
   ]
  },
  {
   "cell_type": "markdown",
   "id": "0dd19684",
   "metadata": {},
   "source": [
    "## Create a 4 x 4 matrix and add values 4,5,6 above the parent diagonal."
   ]
  },
  {
   "cell_type": "code",
   "execution_count": 64,
   "id": "0f1ec818",
   "metadata": {},
   "outputs": [
    {
     "name": "stdout",
     "output_type": "stream",
     "text": [
      "[[0. 4. 0. 0.]\n",
      " [0. 0. 5. 0.]\n",
      " [0. 0. 0. 6.]\n",
      " [0. 0. 0. 0.]]\n"
     ]
    }
   ],
   "source": [
    "import numpy as np\n",
    "\n",
    "# Create a 4x4 matrix with zeros\n",
    "matrix = np.zeros((4, 4))\n",
    "\n",
    "# Values to place above the main diagonal\n",
    "values = [4, 5, 6]\n",
    "\n",
    "# Fill the values above the main diagonal\n",
    "for i in range(len(values)):\n",
    "    matrix[i, i+1] = values[i]\n",
    "\n",
    "print(matrix)\n",
    "\n",
    "\n",
    "#matrix[0,1] - Insert at first row second place (=values[0]=4 )\n",
    "#matrix][1,2] - Insert at second row third place ie, 2nd index ( =values[1]=5 )\n",
    "#matrix[2,3] - Insert at third row 4 th place  (= values[2] = 6 )\n",
    "\n"
   ]
  },
  {
   "cell_type": "markdown",
   "id": "23ca5cac",
   "metadata": {},
   "source": [
    "## Given a Numpy array arr = np.arange(11), negate all the elements between 6 and 10\n"
   ]
  },
  {
   "cell_type": "code",
   "execution_count": 72,
   "id": "5d26de0b",
   "metadata": {},
   "outputs": [
    {
     "name": "stdout",
     "output_type": "stream",
     "text": [
      "[False False False False False False False  True  True  True  True]\n"
     ]
    }
   ],
   "source": [
    "import numpy as np\n",
    "arr = np.arange(11)\n",
    "\n",
    "#BOOLEAN OPERATION STEP\n",
    "\n",
    "print(arr > 6)\n"
   ]
  },
  {
   "cell_type": "code",
   "execution_count": 73,
   "id": "23a341b7",
   "metadata": {},
   "outputs": [
    {
     "name": "stdout",
     "output_type": "stream",
     "text": [
      "[ True  True  True  True  True  True  True  True  True  True  True]\n"
     ]
    }
   ],
   "source": [
    "print (arr<=10)"
   ]
  },
  {
   "cell_type": "code",
   "execution_count": 74,
   "id": "368e42d7",
   "metadata": {},
   "outputs": [
    {
     "name": "stdout",
     "output_type": "stream",
     "text": [
      "[ 7  8  9 10]\n"
     ]
    }
   ],
   "source": [
    "print(arr[(arr >6) & (arr<=10)])"
   ]
  },
  {
   "cell_type": "code",
   "execution_count": 68,
   "id": "616b3e51",
   "metadata": {},
   "outputs": [
    {
     "name": "stdout",
     "output_type": "stream",
     "text": [
      "[  0   1   2   3   4   5   6  -7  -8  -9 -10]\n"
     ]
    }
   ],
   "source": [
    "import numpy as np\n",
    "\n",
    "arr= np.arange(11)\n",
    "\n",
    "arr[(arr > 6) & (arr<=10)] *= -1\n",
    "\n",
    "print(arr)"
   ]
  },
  {
   "cell_type": "markdown",
   "id": "d0171176",
   "metadata": {},
   "source": [
    "## Given a matrix mat and an array arr, for each row of the matrix if elements of Column 1 are equal to the corresponding element of the array, then print the corresponding value of Column 2 of the matrix."
   ]
  },
  {
   "cell_type": "code",
   "execution_count": 75,
   "id": "e453faaa",
   "metadata": {},
   "outputs": [
    {
     "name": "stdout",
     "output_type": "stream",
     "text": [
      "A\n",
      "C\n"
     ]
    }
   ],
   "source": [
    "import numpy as np\n",
    "mat = np.array([['abc','A'],['def','B'],['ghi','C'],['jkl','D']])\n",
    "arr = np.array(['abc','dfe','ghi','kjl']) \n",
    "\n",
    "for row in mat:\n",
    "    if row[0] in arr:\n",
    "        print(row[1])\n",
    " \n"
   ]
  },
  {
   "cell_type": "markdown",
   "id": "b23e81ca",
   "metadata": {},
   "source": [
    "## Given a matrix mat, sort it by the second column.\n",
    "\n",
    " \n"
   ]
  },
  {
   "cell_type": "code",
   "execution_count": 76,
   "id": "f08b4241",
   "metadata": {},
   "outputs": [
    {
     "name": "stdout",
     "output_type": "stream",
     "text": [
      "[[ 5  4  2]\n",
      " [56 12  4]\n",
      " [ 1 21  3]]\n"
     ]
    }
   ],
   "source": [
    "import numpy as np\n",
    "mat = np.array([[1,21,3],[5,4,2],[56,12,4]])\n",
    "\n",
    "sorted = mat[mat[:,1].argsort()]\n",
    "\n",
    "#mat[:,1] - : selects the all rows , 1 - selects the second column.\n",
    "\n",
    "#argsort() - function in NumPy returns the indices that would sort an array.\n",
    "\n",
    "print(sorted)"
   ]
  },
  {
   "cell_type": "markdown",
   "id": "9e8d91fa",
   "metadata": {},
   "source": [
    "## Given an array arr, find the top 4 maximum values.\n",
    "\n",
    " "
   ]
  },
  {
   "cell_type": "code",
   "execution_count": 77,
   "id": "62f27da0",
   "metadata": {},
   "outputs": [
    {
     "name": "stdout",
     "output_type": "stream",
     "text": [
      "Top 4 maximum values: [590  90  45  24]\n"
     ]
    }
   ],
   "source": [
    "import numpy as np\n",
    "arr = np.array([90, 14, 24, 13, 13, 590, 0, 45, 16, 5])\n",
    "\n",
    "# Find the indices of the top 4 maximum values\n",
    "top_indices = np.argsort(arr)[-4:]\n",
    "\n",
    "# Select the top 4 maximum values using the indices\n",
    "top_values = arr[top_indices]\n",
    "\n",
    "# Sort the top values in descending order\n",
    "top_values_sorted = np.sort(top_values)[::-1]\n",
    "\n",
    "print(\"Top 4 maximum values:\", top_values_sorted)\n"
   ]
  },
  {
   "cell_type": "markdown",
   "id": "aa16ddcd",
   "metadata": {},
   "source": [
    "## Find the nearest number from the given number in an array.\n",
    "\n",
    " "
   ]
  },
  {
   "cell_type": "code",
   "execution_count": 80,
   "id": "a033be73",
   "metadata": {},
   "outputs": [
    {
     "name": "stdout",
     "output_type": "stream",
     "text": [
      "Differences: [40  5 28 47 44  6 41  4]\n",
      "Index of nearest value: 7\n",
      "Nearest value to 50 is 54\n"
     ]
    }
   ],
   "source": [
    "import numpy as np\n",
    "\n",
    "# Define the array and the target number\n",
    "arr = np.array([10, 55, 22, 3, 6, 44, 9, 54])\n",
    "nearest_to = 50\n",
    "\n",
    "# Step 1: Compute the absolute differences\n",
    "differences = np.abs(arr - nearest_to)\n",
    "print(\"Differences:\", differences)\n",
    "\n",
    "# Step 2: Find the index of the minimum difference \n",
    "nearest_index = np.argmin(differences)\n",
    "print(\"Index of nearest value:\", nearest_index)\n",
    "\n",
    "# Step 3: Use the index to get the nearest number\n",
    "nearest_value = arr[nearest_index]\n",
    "print(\"Nearest value to\", nearest_to, \"is\", nearest_value)"
   ]
  },
  {
   "cell_type": "markdown",
   "id": "f6e021d1",
   "metadata": {},
   "source": [
    "## Given a matrix mat of size 3 x 3. Find the maximum numbers from each row, say N1, N2 and N3. Result in a matrix by adding:\n",
    " \n",
    "\n",
    "N1 to the upper half elements of mat\n",
    "\n",
    "N2 to the main diagonal elements of mat\n",
    "\n",
    "N3 to the lower half elements of mat"
   ]
  },
  {
   "cell_type": "code",
   "execution_count": 2,
   "id": "b67ef451",
   "metadata": {},
   "outputs": [
    {
     "name": "stdout",
     "output_type": "stream",
     "text": [
      "[[30 15 19]\n",
      " [32 40 16]\n",
      " [38 33 50]]\n"
     ]
    }
   ],
   "source": [
    "import numpy as np\n",
    "mat = np.array([[10,5,9],\n",
    "                [2,20,6],\n",
    "                [8,3,30]]).reshape(3,3)\n",
    "\n",
    "#find the max element from each row\n",
    "\n",
    "N1=np.max(mat[0,:])\n",
    "N2=np.max(mat[1,:])\n",
    "N3=np.max(mat[2,:])\n",
    "\n",
    "# Create a copy of the matrix to store the result\n",
    "result = mat.copy()\n",
    "\n",
    "# Add N1 to the upper half elements (excluding the main diagonal)\n",
    "upper_half_indices = np.triu_indices(3, k=1)\n",
    "result[upper_half_indices] += N1\n",
    "\n",
    "# Add N2 to the main diagonal elements\n",
    "main_diagonal_indices = np.diag_indices(3)\n",
    "result[main_diagonal_indices] += N2\n",
    "\n",
    "# Add N3 to the lower half elements (excluding the main diagonal)\n",
    "lower_half_indices = np.tril_indices(3, k=-1)\n",
    "result[lower_half_indices] += N3\n",
    "\n",
    "# Print the result\n",
    "print(result)"
   ]
  },
  {
   "cell_type": "markdown",
   "id": "373d32c3",
   "metadata": {},
   "source": [
    "Find the Maximum Numbers:\n",
    "\n",
    "N1 = 10 (maximum of first row)\n",
    "N2 = 20 (maximum of second row)\n",
    "N3 = 30 (maximum of third row)\n",
    "Upper Half Elements:\n",
    "\n",
    "Indices: (0, 1), (0, 2), and (1, 2)\n",
    "Add N1 = 10 to these elements\n",
    "Main Diagonal Elements:\n",
    "\n",
    "Indices: (0, 0), (1, 1), and (2, 2)\n",
    "Add N2 = 20 to these elements\n",
    "Lower Half Elements:\n",
    "\n",
    "Indices: (1, 0) and (2, 0), (2, 1)\n",
    "Add N3 = 30 to these elements"
   ]
  },
  {
   "cell_type": "code",
   "execution_count": 3,
   "id": "703a95f3",
   "metadata": {},
   "outputs": [
    {
     "name": "stdout",
     "output_type": "stream",
     "text": [
      "[16 12]\n"
     ]
    }
   ],
   "source": [
    "#Find the output of the following code:\n",
    "\n",
    "arr = np.array([10,5,6,7]).reshape(2,-1)\n",
    "print(arr.sum(axis = 0))"
   ]
  },
  {
   "cell_type": "markdown",
   "id": "047d6fc3",
   "metadata": {},
   "source": [
    "arr = np.array([10,5,6,7]).reshape(2,-1) creates a NumPy array with the values [10, 5, 6, 7] and reshapes it into a 2x2 matrix. The -1 in the reshape method tells NumPy to infer the correct number of columns based on the length of the array and the specified number of rows (2 in this case)."
   ]
  },
  {
   "cell_type": "code",
   "execution_count": 4,
   "id": "6c7b6b39",
   "metadata": {},
   "outputs": [
    {
     "name": "stdout",
     "output_type": "stream",
     "text": [
      "17.0\n"
     ]
    }
   ],
   "source": [
    "import numpy as np\n",
    "arr = np.arange(9, dtype = \"float\").reshape(3,3)\n",
    "ind1 = np.array([[1,2],[0,1]])\n",
    "ind2 = np.array([[0,2],[1,2]])\n",
    "print(arr[ind1, ind2].sum())"
   ]
  },
  {
   "cell_type": "markdown",
   "id": "07963d6c",
   "metadata": {},
   "source": [
    "Create the NumPy array:\n",
    "\n",
    "arr = np.arange(9, dtype=\"float\").reshape(3, 3) creates a 3x3 NumPy array with elements from 0 to 8, reshaped into a 3x3 matrix.\n",
    "\n",
    " Indexing with ind1 and ind2:\n",
    "\n",
    "ind1 and ind2 are arrays that specify the indices to select from arr.\n",
    "When using advanced indexing like arr[ind1, ind2], it pairs the elements of ind1 and ind2 to select specific elements from arr.\n",
    " \n",
    " Sum the selected elements:\n",
    "\n",
    "The sum of the elements selected by arr[ind1, ind2] is then computed."
   ]
  },
  {
   "cell_type": "code",
   "execution_count": null,
   "id": "a967d77a",
   "metadata": {},
   "outputs": [],
   "source": []
  }
 ],
 "metadata": {
  "kernelspec": {
   "display_name": "Python 3 (ipykernel)",
   "language": "python",
   "name": "python3"
  },
  "language_info": {
   "codemirror_mode": {
    "name": "ipython",
    "version": 3
   },
   "file_extension": ".py",
   "mimetype": "text/x-python",
   "name": "python",
   "nbconvert_exporter": "python",
   "pygments_lexer": "ipython3",
   "version": "3.11.5"
  }
 },
 "nbformat": 4,
 "nbformat_minor": 5
}
